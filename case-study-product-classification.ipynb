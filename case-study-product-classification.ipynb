{
 "cells": [
  {
   "cell_type": "code",
   "execution_count": 1,
   "id": "00544423",
   "metadata": {
    "_cell_guid": "b1076dfc-b9ad-4769-8c92-a6c4dae69d19",
    "_uuid": "8f2839f25d086af736a60e9eeb907d3b93b6e0e5",
    "execution": {
     "iopub.execute_input": "2024-09-23T09:12:26.161873Z",
     "iopub.status.busy": "2024-09-23T09:12:26.161419Z",
     "iopub.status.idle": "2024-09-23T09:12:26.611621Z",
     "shell.execute_reply": "2024-09-23T09:12:26.610524Z"
    },
    "papermill": {
     "duration": 0.462602,
     "end_time": "2024-09-23T09:12:26.615108",
     "exception": false,
     "start_time": "2024-09-23T09:12:26.152506",
     "status": "completed"
    },
    "tags": []
   },
   "outputs": [
    {
     "name": "stdout",
     "output_type": "stream",
     "text": [
      "/kaggle/input/product-sentiment-classification/Participants_Data/Sample Submission.csv\n",
      "/kaggle/input/product-sentiment-classification/Participants_Data/Train.csv\n",
      "/kaggle/input/product-sentiment-classification/Participants_Data/Test.csv\n"
     ]
    }
   ],
   "source": [
    "# This Python 3 environment comes with many helpful analytics libraries installed\n",
    "# It is defined by the kaggle/python Docker image: https://github.com/kaggle/docker-python\n",
    "# For example, here's several helpful packages to load\n",
    "\n",
    "import numpy as np # linear algebra\n",
    "import pandas as pd # data processing, CSV file I/O (e.g. pd.read_csv)\n",
    "\n",
    "# Input data files are available in the read-only \"../input/\" directory\n",
    "# For example, running this (by clicking run or pressing Shift+Enter) will list all files under the input directory\n",
    "\n",
    "import os\n",
    "for dirname, _, filenames in os.walk('/kaggle/input'):\n",
    "    for filename in filenames:\n",
    "        print(os.path.join(dirname, filename))\n",
    "\n",
    "# You can write up to 20GB to the current directory (/kaggle/working/) that gets preserved as output when you create a version using \"Save & Run All\" \n",
    "# You can also write temporary files to /kaggle/temp/, but they won't be saved outside of the current session"
   ]
  },
  {
   "cell_type": "markdown",
   "id": "f9d7db02",
   "metadata": {
    "papermill": {
     "duration": 0.007156,
     "end_time": "2024-09-23T09:12:26.629861",
     "exception": false,
     "start_time": "2024-09-23T09:12:26.622705",
     "status": "completed"
    },
    "tags": []
   },
   "source": [
    "#  Introduction to Product Sentiment Classification"
   ]
  },
  {
   "cell_type": "markdown",
   "id": "422423ac",
   "metadata": {
    "papermill": {
     "duration": 0.005776,
     "end_time": "2024-09-23T09:12:26.641636",
     "exception": false,
     "start_time": "2024-09-23T09:12:26.635860",
     "status": "completed"
    },
    "tags": []
   },
   "source": [
    "Product sentiment classification is a subfield of natural language processing (NLP) focused on determining the sentiment expressed in user-generated content about products, such as reviews, ratings, and comments. This process involves categorizing text as positive, negative, or neutral, enabling businesses to gauge customer opinions, improve products, and enhance marketing strategies."
   ]
  },
  {
   "cell_type": "markdown",
   "id": "01417608",
   "metadata": {
    "papermill": {
     "duration": 0.005943,
     "end_time": "2024-09-23T09:12:26.653596",
     "exception": false,
     "start_time": "2024-09-23T09:12:26.647653",
     "status": "completed"
    },
    "tags": []
   },
   "source": [
    "**Importance of Sentiment Analysis**\n",
    "Customer Insights: Understanding how consumers feel about products helps companies identify strengths and weaknesses.\n",
    "Reputation Management: By monitoring sentiment, brands can respond to negative feedback proactively, improving their reputation.\n",
    "Market Trends: Analyzing sentiment over time can reveal shifts in consumer preferences and emerging market trends.\n",
    "Product Development: Insights from sentiment analysis can guide product improvements and innovation."
   ]
  },
  {
   "cell_type": "markdown",
   "id": "885c6475",
   "metadata": {
    "papermill": {
     "duration": 0.005745,
     "end_time": "2024-09-23T09:12:26.665275",
     "exception": false,
     "start_time": "2024-09-23T09:12:26.659530",
     "status": "completed"
    },
    "tags": []
   },
   "source": [
    "# import\n"
   ]
  },
  {
   "cell_type": "code",
   "execution_count": 2,
   "id": "843056e9",
   "metadata": {
    "execution": {
     "iopub.execute_input": "2024-09-23T09:12:26.680004Z",
     "iopub.status.busy": "2024-09-23T09:12:26.678883Z",
     "iopub.status.idle": "2024-09-23T09:12:28.354209Z",
     "shell.execute_reply": "2024-09-23T09:12:28.352995Z"
    },
    "papermill": {
     "duration": 1.685891,
     "end_time": "2024-09-23T09:12:28.357221",
     "exception": false,
     "start_time": "2024-09-23T09:12:26.671330",
     "status": "completed"
    },
    "tags": []
   },
   "outputs": [],
   "source": [
    "import pandas as pd\n",
    "import numpy as np\n",
    "import matplotlib.pyplot as plt\n",
    "import seaborn as sns"
   ]
  },
  {
   "cell_type": "markdown",
   "id": "45656b65",
   "metadata": {
    "papermill": {
     "duration": 0.005871,
     "end_time": "2024-09-23T09:12:28.369541",
     "exception": false,
     "start_time": "2024-09-23T09:12:28.363670",
     "status": "completed"
    },
    "tags": []
   },
   "source": []
  },
  {
   "cell_type": "markdown",
   "id": "ebc15f23",
   "metadata": {
    "papermill": {
     "duration": 0.00594,
     "end_time": "2024-09-23T09:12:28.381649",
     "exception": false,
     "start_time": "2024-09-23T09:12:28.375709",
     "status": "completed"
    },
    "tags": []
   },
   "source": [
    "# read"
   ]
  },
  {
   "cell_type": "code",
   "execution_count": 3,
   "id": "04b57747",
   "metadata": {
    "execution": {
     "iopub.execute_input": "2024-09-23T09:12:28.395950Z",
     "iopub.status.busy": "2024-09-23T09:12:28.395381Z",
     "iopub.status.idle": "2024-09-23T09:12:28.464257Z",
     "shell.execute_reply": "2024-09-23T09:12:28.462981Z"
    },
    "papermill": {
     "duration": 0.07918,
     "end_time": "2024-09-23T09:12:28.466963",
     "exception": false,
     "start_time": "2024-09-23T09:12:28.387783",
     "status": "completed"
    },
    "tags": []
   },
   "outputs": [
    {
     "name": "stdout",
     "output_type": "stream",
     "text": [
      "Training Data - (6364, 4)\n",
      "Testing Data - (2728, 3)\n"
     ]
    }
   ],
   "source": [
    "train_data = pd.read_csv(\"/kaggle/input/product-sentiment-classification/Participants_Data/Train.csv\")\n",
    "test_data = pd.read_csv(\"/kaggle/input/product-sentiment-classification/Participants_Data/Test.csv\")\n",
    "print(\"Training Data -\",train_data.shape)\n",
    "print(\"Testing Data -\",test_data.shape)"
   ]
  },
  {
   "cell_type": "code",
   "execution_count": 4,
   "id": "fb5c504d",
   "metadata": {
    "execution": {
     "iopub.execute_input": "2024-09-23T09:12:28.481667Z",
     "iopub.status.busy": "2024-09-23T09:12:28.481223Z",
     "iopub.status.idle": "2024-09-23T09:12:28.504122Z",
     "shell.execute_reply": "2024-09-23T09:12:28.503007Z"
    },
    "papermill": {
     "duration": 0.033132,
     "end_time": "2024-09-23T09:12:28.506553",
     "exception": false,
     "start_time": "2024-09-23T09:12:28.473421",
     "status": "completed"
    },
    "tags": []
   },
   "outputs": [
    {
     "data": {
      "text/html": [
       "<div>\n",
       "<style scoped>\n",
       "    .dataframe tbody tr th:only-of-type {\n",
       "        vertical-align: middle;\n",
       "    }\n",
       "\n",
       "    .dataframe tbody tr th {\n",
       "        vertical-align: top;\n",
       "    }\n",
       "\n",
       "    .dataframe thead th {\n",
       "        text-align: right;\n",
       "    }\n",
       "</style>\n",
       "<table border=\"1\" class=\"dataframe\">\n",
       "  <thead>\n",
       "    <tr style=\"text-align: right;\">\n",
       "      <th></th>\n",
       "      <th>Text_ID</th>\n",
       "      <th>Product_Description</th>\n",
       "      <th>Product_Type</th>\n",
       "      <th>Sentiment</th>\n",
       "    </tr>\n",
       "  </thead>\n",
       "  <tbody>\n",
       "    <tr>\n",
       "      <th>0</th>\n",
       "      <td>3057</td>\n",
       "      <td>The Web DesignerÛªs Guide to iOS (and Android...</td>\n",
       "      <td>9</td>\n",
       "      <td>2</td>\n",
       "    </tr>\n",
       "    <tr>\n",
       "      <th>1</th>\n",
       "      <td>6254</td>\n",
       "      <td>RT @mention Line for iPad 2 is longer today th...</td>\n",
       "      <td>9</td>\n",
       "      <td>2</td>\n",
       "    </tr>\n",
       "    <tr>\n",
       "      <th>2</th>\n",
       "      <td>8212</td>\n",
       "      <td>Crazy that Apple is opening a temporary store ...</td>\n",
       "      <td>9</td>\n",
       "      <td>2</td>\n",
       "    </tr>\n",
       "    <tr>\n",
       "      <th>3</th>\n",
       "      <td>4422</td>\n",
       "      <td>The lesson from Google One Pass: In this digit...</td>\n",
       "      <td>9</td>\n",
       "      <td>2</td>\n",
       "    </tr>\n",
       "    <tr>\n",
       "      <th>4</th>\n",
       "      <td>5526</td>\n",
       "      <td>RT @mention At the panel: &amp;quot;Your mom has a...</td>\n",
       "      <td>9</td>\n",
       "      <td>2</td>\n",
       "    </tr>\n",
       "  </tbody>\n",
       "</table>\n",
       "</div>"
      ],
      "text/plain": [
       "   Text_ID                                Product_Description  Product_Type  \\\n",
       "0     3057  The Web DesignerÛªs Guide to iOS (and Android...             9   \n",
       "1     6254  RT @mention Line for iPad 2 is longer today th...             9   \n",
       "2     8212  Crazy that Apple is opening a temporary store ...             9   \n",
       "3     4422  The lesson from Google One Pass: In this digit...             9   \n",
       "4     5526  RT @mention At the panel: &quot;Your mom has a...             9   \n",
       "\n",
       "   Sentiment  \n",
       "0          2  \n",
       "1          2  \n",
       "2          2  \n",
       "3          2  \n",
       "4          2  "
      ]
     },
     "execution_count": 4,
     "metadata": {},
     "output_type": "execute_result"
    }
   ],
   "source": [
    "train_data.head()"
   ]
  },
  {
   "cell_type": "code",
   "execution_count": 5,
   "id": "e5e064ea",
   "metadata": {
    "execution": {
     "iopub.execute_input": "2024-09-23T09:12:28.521804Z",
     "iopub.status.busy": "2024-09-23T09:12:28.521012Z",
     "iopub.status.idle": "2024-09-23T09:12:28.535404Z",
     "shell.execute_reply": "2024-09-23T09:12:28.534308Z"
    },
    "papermill": {
     "duration": 0.024651,
     "end_time": "2024-09-23T09:12:28.537704",
     "exception": false,
     "start_time": "2024-09-23T09:12:28.513053",
     "status": "completed"
    },
    "tags": []
   },
   "outputs": [
    {
     "data": {
      "text/plain": [
       "Product_Type\n",
       "9    4070\n",
       "6     665\n",
       "2     465\n",
       "7     327\n",
       "3     300\n",
       "5     213\n",
       "8     194\n",
       "1      59\n",
       "0      52\n",
       "4      19\n",
       "Name: count, dtype: int64"
      ]
     },
     "execution_count": 5,
     "metadata": {},
     "output_type": "execute_result"
    }
   ],
   "source": [
    "train_data['Product_Type'].value_counts()"
   ]
  },
  {
   "cell_type": "code",
   "execution_count": 6,
   "id": "84054f17",
   "metadata": {
    "execution": {
     "iopub.execute_input": "2024-09-23T09:12:28.553506Z",
     "iopub.status.busy": "2024-09-23T09:12:28.552547Z",
     "iopub.status.idle": "2024-09-23T09:12:28.567512Z",
     "shell.execute_reply": "2024-09-23T09:12:28.566242Z"
    },
    "papermill": {
     "duration": 0.025479,
     "end_time": "2024-09-23T09:12:28.569938",
     "exception": false,
     "start_time": "2024-09-23T09:12:28.544459",
     "status": "completed"
    },
    "tags": []
   },
   "outputs": [
    {
     "data": {
      "text/plain": [
       "Product_Type\n",
       "9    4070\n",
       "6     665\n",
       "2     465\n",
       "7     327\n",
       "3     300\n",
       "5     213\n",
       "8     194\n",
       "1      59\n",
       "0      52\n",
       "4      19\n",
       "Name: count, dtype: int64"
      ]
     },
     "execution_count": 6,
     "metadata": {},
     "output_type": "execute_result"
    }
   ],
   "source": [
    "train_data.drop(train_data[train_data.Product_Type=='0'].index, inplace=True)\n",
    "train_data['Product_Type'].value_counts()"
   ]
  },
  {
   "cell_type": "code",
   "execution_count": 7,
   "id": "8242a133",
   "metadata": {
    "execution": {
     "iopub.execute_input": "2024-09-23T09:12:28.586003Z",
     "iopub.status.busy": "2024-09-23T09:12:28.585602Z",
     "iopub.status.idle": "2024-09-23T09:12:28.993272Z",
     "shell.execute_reply": "2024-09-23T09:12:28.992143Z"
    },
    "papermill": {
     "duration": 0.418645,
     "end_time": "2024-09-23T09:12:28.995995",
     "exception": false,
     "start_time": "2024-09-23T09:12:28.577350",
     "status": "completed"
    },
    "tags": []
   },
   "outputs": [
    {
     "data": {
      "image/png": "[encoded data removed]",
      "text/plain": [
       "<Figure size 1000x600 with 1 Axes>"
      ]
     },
     "metadata": {},
     "output_type": "display_data"
    }
   ],
   "source": [
    "category_dist = train_data['Product_Type'].value_counts()\n",
    "\n",
    "plt.figure(figsize=(10,6))\n",
    "my_colors = ['g', 'r', 'b', 'k', 'm', 'y']\n",
    "category_dist.plot(kind='bar', color=my_colors)\n",
    "plt.grid()\n",
    "plt.xlabel(\"Categories\")\n",
    "plt.ylabel(\"Datapoints Per Category\")\n",
    "plt.title(\"Distribution of Datapoints Per Category\")\n",
    "plt.show()"
   ]
  },
  {
   "cell_type": "code",
   "execution_count": 8,
   "id": "b92cd20d",
   "metadata": {
    "execution": {
     "iopub.execute_input": "2024-09-23T09:12:29.012795Z",
     "iopub.status.busy": "2024-09-23T09:12:29.012396Z",
     "iopub.status.idle": "2024-09-23T09:12:29.873502Z",
     "shell.execute_reply": "2024-09-23T09:12:29.872297Z"
    },
    "papermill": {
     "duration": 0.872943,
     "end_time": "2024-09-23T09:12:29.876472",
     "exception": false,
     "start_time": "2024-09-23T09:12:29.003529",
     "status": "completed"
    },
    "tags": []
   },
   "outputs": [],
   "source": [
    "import warnings\n",
    "warnings.filterwarnings(\"ignore\")\n",
    "from nltk.corpus import stopwords\n",
    "import nltk\n",
    "import re\n",
    "\n",
    "#loading_the_stop_words_from_nltk_library_\n",
    "stop_words = set(stopwords.words('english'))\n",
    "\n",
    "def txt_preprocessing(total_text, index, column, df):\n",
    "    if type(total_text) is not int:\n",
    "        string = \"\"\n",
    "        \n",
    "        #replace_every_special_char_with_space\n",
    "        total_text = re.sub('[^a-zA-Z0-9\\n]', ' ', total_text)\n",
    "        \n",
    "        #replace_multiple_spaces_with_single_space\n",
    "        total_text = re.sub('\\s+',' ', total_text)\n",
    "        \n",
    "        #converting_all_the_chars_into_lower_case\n",
    "        total_text = total_text.lower()  \n",
    "        for word in total_text.split():\n",
    "        #if_the_word_is_a_not_a_stop_word_then_retain_that_word_from_the_data\n",
    "            if not word in stop_words:\n",
    "                string += word + \" \"\n",
    "        \n",
    "        df[column][index] = string"
   ]
  },
  {
   "cell_type": "code",
   "execution_count": 9,
   "id": "6fffff21",
   "metadata": {
    "execution": {
     "iopub.execute_input": "2024-09-23T09:12:29.893559Z",
     "iopub.status.busy": "2024-09-23T09:12:29.893119Z",
     "iopub.status.idle": "2024-09-23T09:12:33.544409Z",
     "shell.execute_reply": "2024-09-23T09:12:33.543191Z"
    },
    "papermill": {
     "duration": 3.662636,
     "end_time": "2024-09-23T09:12:33.546786",
     "exception": false,
     "start_time": "2024-09-23T09:12:29.884150",
     "status": "completed"
    },
    "tags": []
   },
   "outputs": [
    {
     "data": {
      "text/html": [
       "<div>\n",
       "<style scoped>\n",
       "    .dataframe tbody tr th:only-of-type {\n",
       "        vertical-align: middle;\n",
       "    }\n",
       "\n",
       "    .dataframe tbody tr th {\n",
       "        vertical-align: top;\n",
       "    }\n",
       "\n",
       "    .dataframe thead th {\n",
       "        text-align: right;\n",
       "    }\n",
       "</style>\n",
       "<table border=\"1\" class=\"dataframe\">\n",
       "  <thead>\n",
       "    <tr style=\"text-align: right;\">\n",
       "      <th></th>\n",
       "      <th>Text_ID</th>\n",
       "      <th>Product_Description</th>\n",
       "      <th>Product_Type</th>\n",
       "      <th>Sentiment</th>\n",
       "    </tr>\n",
       "  </thead>\n",
       "  <tbody>\n",
       "    <tr>\n",
       "      <th>0</th>\n",
       "      <td>3057</td>\n",
       "      <td>web designer guide ios android apps today ment...</td>\n",
       "      <td>9</td>\n",
       "      <td>2</td>\n",
       "    </tr>\n",
       "    <tr>\n",
       "      <th>1</th>\n",
       "      <td>6254</td>\n",
       "      <td>rt mention line ipad 2 longer today yesterday ...</td>\n",
       "      <td>9</td>\n",
       "      <td>2</td>\n",
       "    </tr>\n",
       "    <tr>\n",
       "      <th>2</th>\n",
       "      <td>8212</td>\n",
       "      <td>crazy apple opening temporary store austin tom...</td>\n",
       "      <td>9</td>\n",
       "      <td>2</td>\n",
       "    </tr>\n",
       "    <tr>\n",
       "      <th>3</th>\n",
       "      <td>4422</td>\n",
       "      <td>lesson google one pass digital environment use...</td>\n",
       "      <td>9</td>\n",
       "      <td>2</td>\n",
       "    </tr>\n",
       "    <tr>\n",
       "      <th>4</th>\n",
       "      <td>5526</td>\n",
       "      <td>rt mention panel quot mom ipad designing boome...</td>\n",
       "      <td>9</td>\n",
       "      <td>2</td>\n",
       "    </tr>\n",
       "  </tbody>\n",
       "</table>\n",
       "</div>"
      ],
      "text/plain": [
       "   Text_ID                                Product_Description  Product_Type  \\\n",
       "0     3057  web designer guide ios android apps today ment...             9   \n",
       "1     6254  rt mention line ipad 2 longer today yesterday ...             9   \n",
       "2     8212  crazy apple opening temporary store austin tom...             9   \n",
       "3     4422  lesson google one pass digital environment use...             9   \n",
       "4     5526  rt mention panel quot mom ipad designing boome...             9   \n",
       "\n",
       "   Sentiment  \n",
       "0          2  \n",
       "1          2  \n",
       "2          2  \n",
       "3          2  \n",
       "4          2  "
      ]
     },
     "execution_count": 9,
     "metadata": {},
     "output_type": "execute_result"
    }
   ],
   "source": [
    "for index, row in train_data.iterrows():\n",
    "    if type(row['Product_Description']) is str:\n",
    "        txt_preprocessing(row['Product_Description'], index, 'Product_Description', train_data)\n",
    "    else:\n",
    "        print(\"THERE IS NO TEXT DESCRIPTION FOR ID :\",Product_Description)\n",
    "\n",
    "train_data.head()"
   ]
  },
  {
   "cell_type": "code",
   "execution_count": 10,
   "id": "7f912806",
   "metadata": {
    "execution": {
     "iopub.execute_input": "2024-09-23T09:12:33.564278Z",
     "iopub.status.busy": "2024-09-23T09:12:33.563787Z",
     "iopub.status.idle": "2024-09-23T09:12:37.176251Z",
     "shell.execute_reply": "2024-09-23T09:12:37.175028Z"
    },
    "papermill": {
     "duration": 3.624174,
     "end_time": "2024-09-23T09:12:37.178786",
     "exception": false,
     "start_time": "2024-09-23T09:12:33.554612",
     "status": "completed"
    },
    "tags": []
   },
   "outputs": [
    {
     "data": {
      "text/html": [
       "<div>\n",
       "<style scoped>\n",
       "    .dataframe tbody tr th:only-of-type {\n",
       "        vertical-align: middle;\n",
       "    }\n",
       "\n",
       "    .dataframe tbody tr th {\n",
       "        vertical-align: top;\n",
       "    }\n",
       "\n",
       "    .dataframe thead th {\n",
       "        text-align: right;\n",
       "    }\n",
       "</style>\n",
       "<table border=\"1\" class=\"dataframe\">\n",
       "  <thead>\n",
       "    <tr style=\"text-align: right;\">\n",
       "      <th></th>\n",
       "      <th>Text_ID</th>\n",
       "      <th>Product_Description</th>\n",
       "      <th>Product_Type</th>\n",
       "      <th>Sentiment</th>\n",
       "    </tr>\n",
       "  </thead>\n",
       "  <tbody>\n",
       "    <tr>\n",
       "      <th>0</th>\n",
       "      <td>3057</td>\n",
       "      <td>web designer guide ios android apps today ment...</td>\n",
       "      <td>9</td>\n",
       "      <td>2</td>\n",
       "    </tr>\n",
       "    <tr>\n",
       "      <th>1</th>\n",
       "      <td>6254</td>\n",
       "      <td>rt mention line ipad 2 longer today yesterday ...</td>\n",
       "      <td>9</td>\n",
       "      <td>2</td>\n",
       "    </tr>\n",
       "    <tr>\n",
       "      <th>2</th>\n",
       "      <td>8212</td>\n",
       "      <td>crazy apple opening temporary store austin tom...</td>\n",
       "      <td>9</td>\n",
       "      <td>2</td>\n",
       "    </tr>\n",
       "    <tr>\n",
       "      <th>3</th>\n",
       "      <td>4422</td>\n",
       "      <td>lesson google one pass digital environment use...</td>\n",
       "      <td>9</td>\n",
       "      <td>2</td>\n",
       "    </tr>\n",
       "    <tr>\n",
       "      <th>4</th>\n",
       "      <td>5526</td>\n",
       "      <td>rt mention panel quot mom ipad designing boome...</td>\n",
       "      <td>9</td>\n",
       "      <td>2</td>\n",
       "    </tr>\n",
       "  </tbody>\n",
       "</table>\n",
       "</div>"
      ],
      "text/plain": [
       "   Text_ID                                Product_Description  Product_Type  \\\n",
       "0     3057  web designer guide ios android apps today ment...             9   \n",
       "1     6254  rt mention line ipad 2 longer today yesterday ...             9   \n",
       "2     8212  crazy apple opening temporary store austin tom...             9   \n",
       "3     4422  lesson google one pass digital environment use...             9   \n",
       "4     5526  rt mention panel quot mom ipad designing boome...             9   \n",
       "\n",
       "   Sentiment  \n",
       "0          2  \n",
       "1          2  \n",
       "2          2  \n",
       "3          2  \n",
       "4          2  "
      ]
     },
     "execution_count": 10,
     "metadata": {},
     "output_type": "execute_result"
    }
   ],
   "source": [
    "for index, row in train_data.iterrows():\n",
    "    if type(row['Product_Description']) is str:\n",
    "        txt_preprocessing(row['Product_Description'], index, 'Product_Description', train_data)\n",
    "    else:\n",
    "        print(\"THERE IS NO TEXT DESCRIPTION FOR ID :\",Product_Description)\n",
    "\n",
    "train_data.head()"
   ]
  },
  {
   "cell_type": "code",
   "execution_count": 11,
   "id": "3fb59c87",
   "metadata": {
    "execution": {
     "iopub.execute_input": "2024-09-23T09:12:37.197273Z",
     "iopub.status.busy": "2024-09-23T09:12:37.196806Z",
     "iopub.status.idle": "2024-09-23T09:12:37.212456Z",
     "shell.execute_reply": "2024-09-23T09:12:37.211314Z"
    },
    "papermill": {
     "duration": 0.027901,
     "end_time": "2024-09-23T09:12:37.214789",
     "exception": false,
     "start_time": "2024-09-23T09:12:37.186888",
     "status": "completed"
    },
    "tags": []
   },
   "outputs": [
    {
     "name": "stdout",
     "output_type": "stream",
     "text": [
      "NUMBER OF DATA POINTS IN TRAIN DATA : 5091\n",
      "NUMBER OF DATA POINTS IN CROSS VALIDATION DATA : 1273\n"
     ]
    }
   ],
   "source": [
    "from sklearn.model_selection import train_test_split\n",
    "X_train = train_data['Product_Description']\n",
    "y_train = train_data['Product_Type']\n",
    "\n",
    "X_test = test_data['Product_Description']\n",
    "\n",
    "X_train, X_cv, y_train, y_cv = train_test_split(X_train, y_train, test_size=0.20, stratify=y_train, random_state=0)\n",
    "print(\"NUMBER OF DATA POINTS IN TRAIN DATA :\", X_train.shape[0])\n",
    "print(\"NUMBER OF DATA POINTS IN CROSS VALIDATION DATA :\", X_cv.shape[0])"
   ]
  },
  {
   "cell_type": "code",
   "execution_count": 12,
   "id": "0e68701a",
   "metadata": {
    "execution": {
     "iopub.execute_input": "2024-09-23T09:12:37.233380Z",
     "iopub.status.busy": "2024-09-23T09:12:37.232563Z",
     "iopub.status.idle": "2024-09-23T09:12:37.241364Z",
     "shell.execute_reply": "2024-09-23T09:12:37.239757Z"
    },
    "papermill": {
     "duration": 0.020313,
     "end_time": "2024-09-23T09:12:37.243363",
     "exception": true,
     "start_time": "2024-09-23T09:12:37.223050",
     "status": "failed"
    },
    "tags": []
   },
   "outputs": [
    {
     "ename": "SyntaxError",
     "evalue": "invalid non-printable character U+200B (3041626765.py, line 2)",
     "output_type": "error",
     "traceback": [
      "\u001b[0;36m  Cell \u001b[0;32mIn[12], line 2\u001b[0;36m\u001b[0m\n\u001b[0;31m    ​\u001b[0m\n\u001b[0m    ^\u001b[0m\n\u001b[0;31mSyntaxError\u001b[0m\u001b[0;31m:\u001b[0m invalid non-printable character U+200B\n"
     ]
    }
   ],
   "source": [
    "from sklearn.feature_extraction.text import CountVectorizer\n",
    "​\n",
    "text_vectorizer = CountVectorizer(min_df=3)\n",
    "train_text_ohe = text_vectorizer.fit_transform(X_train)\n",
    "​\n",
    "#getting all the feature names (words)\n",
    "train_text_features = text_vectorizer.get_feature_names()\n",
    "​\n",
    "#train_text_ohe.sum(axis=0).A1 will sum every row and returns (1*number of features) vector\n",
    "train_text_fea_counts = train_text_ohe.sum(axis=0).A1\n",
    "​\n",
    "#zip(list(text_features),text_fea_counts) will zip a word with its number of times it occured\n",
    "text_fea_dict = dict(zip(list(train_text_features),train_text_fea_counts))\n",
    "​\n",
    "print(\"Total Number of Unique Words in Train Data :\",len(train_text_features))"
   ]
  }
 ],
 "metadata": {
  "kaggle": {
   "accelerator": "none",
   "dataSources": [
    {
     "datasetId": 896431,
     "sourceId": 1520739,
     "sourceType": "datasetVersion"
    }
   ],
   "dockerImageVersionId": 30761,
   "isGpuEnabled": false,
   "isInternetEnabled": false,
   "language": "python",
   "sourceType": "notebook"
  },
  "kernelspec": {
   "display_name": "Python 3",
   "language": "python",
   "name": "python3"
  },
  "language_info": {
   "codemirror_mode": {
    "name": "ipython",
    "version": 3
   },
   "file_extension": ".py",
   "mimetype": "text/x-python",
   "name": "python",
   "nbconvert_exporter": "python",
   "pygments_lexer": "ipython3",
   "version": "3.10.14"
  },
  "papermill": {
   "default_parameters": {},
   "duration": 14.769031,
   "end_time": "2024-09-23T09:12:37.973340",
   "environment_variables": {},
   "exception": true,
   "input_path": "__notebook__.ipynb",
   "output_path": "__notebook__.ipynb",
   "parameters": {},
   "start_time": "2024-09-23T09:12:23.204309",
   "version": "2.6.0"
  }
 },
 "nbformat": 4,
 "nbformat_minor": 5
}
